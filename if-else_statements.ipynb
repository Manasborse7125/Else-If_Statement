{
 "cells": [
  {
   "cell_type": "code",
   "execution_count": 6,
   "id": "8c46b689-a174-4da6-b10b-56fc2c9d95be",
   "metadata": {},
   "outputs": [
    {
     "name": "stdin",
     "output_type": "stream",
     "text": [
      "Enter The Age 19\n"
     ]
    },
    {
     "name": "stdout",
     "output_type": "stream",
     "text": [
      "You Can Drive\n"
     ]
    }
   ],
   "source": [
    "#if-else Statement.\n",
    "a=int(input(\"Enter The Age\"))\n",
    "if(a>=18):\n",
    "    print(\"You Can Drive\")\n",
    "else:\n",
    "    print(\"You Cannot Drive\")"
   ]
  },
  {
   "cell_type": "code",
   "execution_count": 5,
   "id": "d5d253b4-778a-4510-8661-6301ca1cef2d",
   "metadata": {},
   "outputs": [
    {
     "name": "stdin",
     "output_type": "stream",
     "text": [
      "Enter The Age : 18\n"
     ]
    },
    {
     "name": "stdout",
     "output_type": "stream",
     "text": [
      "False\n",
      "False\n",
      "True\n",
      "True\n",
      "True\n",
      "False\n"
     ]
    }
   ],
   "source": [
    "#conditional Operator\n",
    "#<, >, <=, >=, ==, !=\n",
    "b=int(input(\"Enter The Age :\"))\n",
    "print(a>18)\n",
    "print(a<18)\n",
    "print(a>=18)\n",
    "print(a<=18)\n",
    "print(a==18)\n",
    "print(a!=18)\n",
    "#Will Return Bollean Type Data"
   ]
  },
  {
   "cell_type": "code",
   "execution_count": 19,
   "id": "447a468d-8a79-4f52-b75e-b618d8b83d60",
   "metadata": {},
   "outputs": [
    {
     "name": "stdin",
     "output_type": "stream",
     "text": [
      "Enter The Number :  99\n"
     ]
    },
    {
     "name": "stdout",
     "output_type": "stream",
     "text": [
      "Number is Unique.\n",
      "Exceute is done \n"
     ]
    }
   ],
   "source": [
    "#elif\n",
    "n=int(input(\"Enter The Number : \"))\n",
    "if(n<0):\n",
    "    print(\"Number is negative.\")\n",
    "elif(n==99):\n",
    "    print(\"Number is Unique.\")\n",
    "elif(n>0):\n",
    "    print(\"Number is Positive.\")\n",
    "else:\n",
    "    print(\"Number is 0\")\n",
    "print(\"Exceute is done \")"
   ]
  },
  {
   "cell_type": "code",
   "execution_count": 28,
   "id": "dabd0358-79d3-40a5-91f6-a20fe785d56c",
   "metadata": {},
   "outputs": [
    {
     "name": "stdin",
     "output_type": "stream",
     "text": [
      "Enter the Number 26\n"
     ]
    },
    {
     "name": "stdout",
     "output_type": "stream",
     "text": [
      "Number is Greater the 20\n",
      "Code Successfully Excuted !!\n"
     ]
    }
   ],
   "source": [
    "#nested if\n",
    "n=int(input(\"Enter the Number\"))\n",
    "if(n<0):\n",
    "    print(\"Number is Negative\")\n",
    "elif(n>0):\n",
    "    if(n<=10):\n",
    "        print(\"Number is between 1-10\")\n",
    "    elif(n>10 and n<=20):\n",
    "        print(\"Number is between 10-20\")\n",
    "    else:\n",
    "        print(\"Number is Greater the 20\")\n",
    "else:\n",
    "    print(\"Number is Zero\")\n",
    "print(\"Code Successfully Excuted !!\")"
   ]
  },
  {
   "cell_type": "code",
   "execution_count": null,
   "id": "481c616a-1eaa-4f20-9187-f1e7222af4ab",
   "metadata": {},
   "outputs": [],
   "source": []
  }
 ],
 "metadata": {
  "kernelspec": {
   "display_name": "Python 3 (ipykernel)",
   "language": "python",
   "name": "python3"
  },
  "language_info": {
   "codemirror_mode": {
    "name": "ipython",
    "version": 3
   },
   "file_extension": ".py",
   "mimetype": "text/x-python",
   "name": "python",
   "nbconvert_exporter": "python",
   "pygments_lexer": "ipython3",
   "version": "3.12.4"
  }
 },
 "nbformat": 4,
 "nbformat_minor": 5
}
